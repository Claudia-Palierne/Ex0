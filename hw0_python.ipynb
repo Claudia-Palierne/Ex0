{
 "cells": [
  {
   "cell_type": "markdown",
   "metadata": {},
   "source": [
    "# DS Apps 2022 @ TAU: HW0\n",
    "## Getting ready with Python\n",
    "\n",
    "### Giora Simchoni\n",
    "### 2022-02-01\n",
    "\n"
   ]
  },
  {
   "cell_type": "markdown",
   "metadata": {},
   "source": [
    "### Welcome\n",
    "\n",
    "Welcome to Homework 0 in Python!\n",
    "\n",
    "Good news: you don’t have to do anything.\n",
    "\n",
    "I just want you to run this Jupyter notebook at your leisure in Jupyter, using Binder cloud, Docker or your local installation, and see that everything is working. Though feel free to tweak things and show me interesting stuff if you find any."
   ]
  },
  {
   "cell_type": "markdown",
   "metadata": {},
   "source": [
    "### Jupyter notebook\n",
    "\n",
    "This is an Jupyter notebook. When you execute code within the notebook, the results appear beneath the code.\n",
    "\n",
    "Try executing this chunk by clicking the Run button at the notebook toolbar above while the chunk is selected, or by placing your cursor inside it and pressing Ctrl+Enter."
   ]
  },
  {
   "cell_type": "code",
   "execution_count": 1,
   "metadata": {},
   "outputs": [
    {
     "name": "stdout",
     "output_type": "stream",
     "text": [
      "One and one is 2\n"
     ]
    }
   ],
   "source": [
    "print('One and one is', 1 + 1)"
   ]
  },
  {
   "cell_type": "markdown",
   "metadata": {},
   "source": [
    "Add a new chunk by clicking the \"+\" button at the notebook toolbar or by pressing B (for \"below\") or A (for \"above\"). Delete a chunk with double D.\n",
    "\n",
    "If you like to make a chunk a \"Markdown\" chunk, holding only formatted text, either change its type in the drop-down menu above to \"Markdown\" or if the cursor is inside the chunk, press Esc, then M."
   ]
  },
  {
   "cell_type": "markdown",
   "metadata": {},
   "source": [
    "### Finding Forever Homes\n",
    "\n",
    "In this notebook we'll try to reproduce some of the findings in [this](https://pudding.cool/2019/10/shelters/) interesting piece on the [Pudding](https://pudding.cool/) website (a must-visit site for data lovers), about the mobility of adoptable dogs in the USA. Where do they come from and where do they go? The data comes from a snaphot of [Petfinder.com](https://www.petfinder.com/) on September 20, 2019."
   ]
  },
  {
   "cell_type": "markdown",
   "metadata": {},
   "source": [
    "### Libraries\n",
    "\n",
    "These are the libraries you will need. If you don't have them, you need to install them first by running e.g. `!pip install pandas` from within the notebook, or opening up a terminal from the main page and running `pip install pandas`.\n",
    "\n",
    "If you are running this from an environment which has both Python2 and Python3 you may need to run `pip3 install` instead of just `pip install`.\n",
    "\n",
    "Try running the chunk. If you are running from Docker or from Binder you should have the libraries."
   ]
  },
  {
   "cell_type": "code",
   "execution_count": 2,
   "metadata": {},
   "outputs": [
    {
     "name": "stdout",
     "output_type": "stream",
     "text": [
      "Requirement already satisfied: pandas in c:\\users\\klowdz\\anaconda3\\lib\\site-packages (1.2.4)\n",
      "Requirement already satisfied: pytz>=2017.3 in c:\\users\\klowdz\\anaconda3\\lib\\site-packages (from pandas) (2021.1)\n",
      "Requirement already satisfied: numpy>=1.16.5 in c:\\users\\klowdz\\anaconda3\\lib\\site-packages (from pandas) (1.20.1)\n",
      "Requirement already satisfied: python-dateutil>=2.7.3 in c:\\users\\klowdz\\anaconda3\\lib\\site-packages (from pandas) (2.8.1)\n",
      "Requirement already satisfied: six>=1.5 in c:\\users\\klowdz\\anaconda3\\lib\\site-packages (from python-dateutil>=2.7.3->pandas) (1.15.0)\n"
     ]
    }
   ],
   "source": [
    "#!pip install pandas\n",
    "import pandas as pd\n",
    "import numpy as np\n",
    "import matplotlib.pyplot as plt\n",
    "import seaborn as sns # this is for later\n",
    "\n",
    "%matplotlib inline"
   ]
  },
  {
   "cell_type": "markdown",
   "metadata": {},
   "source": [
    "### Load the data\n",
    "\n",
    "The data can be loaded either from the [Pudding repo](https://github.com/the-pudding/data/tree/master/dog-shelters) or from the [Tidy Tuesday repo](https://github.com/rfordatascience/tidytuesday/tree/master/data/2019/2019-12-17)"
   ]
  },
  {
   "cell_type": "code",
   "execution_count": 3,
   "metadata": {},
   "outputs": [
    {
     "name": "stdout",
     "output_type": "stream",
     "text": [
      "dog_moves: 90 rows, 5 columns\n",
      "dog_travel: 6194 rows, 8 columns\n",
      "dog_descriptions: 58180 rows, 36 columns\n"
     ]
    }
   ],
   "source": [
    "dog_moves = pd.read_csv('https://raw.githubusercontent.com/rfordatascience/tidytuesday/master/data/2019/2019-12-17/dog_moves.csv')\n",
    "dog_travel = pd.read_csv('https://raw.githubusercontent.com/rfordatascience/tidytuesday/master/data/2019/2019-12-17/dog_travel.csv')\n",
    "dog_descriptions = pd.read_csv('https://raw.githubusercontent.com/rfordatascience/tidytuesday/master/data/2019/2019-12-17/dog_descriptions.csv')\n",
    "\n",
    "print('dog_moves: %d rows, %d columns' % (dog_moves.shape))\n",
    "print('dog_travel: %d rows, %d columns' % (dog_travel.shape))\n",
    "print('dog_descriptions: %d rows, %d columns' % (dog_descriptions.shape))"
   ]
  },
  {
   "cell_type": "code",
   "execution_count": 4,
   "metadata": {},
   "outputs": [
    {
     "data": {
      "text/html": [
       "<div>\n",
       "<style scoped>\n",
       "    .dataframe tbody tr th:only-of-type {\n",
       "        vertical-align: middle;\n",
       "    }\n",
       "\n",
       "    .dataframe tbody tr th {\n",
       "        vertical-align: top;\n",
       "    }\n",
       "\n",
       "    .dataframe thead th {\n",
       "        text-align: right;\n",
       "    }\n",
       "</style>\n",
       "<table border=\"1\" class=\"dataframe\">\n",
       "  <thead>\n",
       "    <tr style=\"text-align: right;\">\n",
       "      <th></th>\n",
       "      <th>id</th>\n",
       "      <th>contact_city</th>\n",
       "      <th>contact_state</th>\n",
       "      <th>description</th>\n",
       "      <th>found</th>\n",
       "      <th>manual</th>\n",
       "      <th>remove</th>\n",
       "      <th>still_there</th>\n",
       "    </tr>\n",
       "  </thead>\n",
       "  <tbody>\n",
       "    <tr>\n",
       "      <th>0</th>\n",
       "      <td>44520267</td>\n",
       "      <td>Anoka</td>\n",
       "      <td>MN</td>\n",
       "      <td>Boris is a handsome mini schnauzer who made hi...</td>\n",
       "      <td>Arkansas</td>\n",
       "      <td>NaN</td>\n",
       "      <td>NaN</td>\n",
       "      <td>NaN</td>\n",
       "    </tr>\n",
       "    <tr>\n",
       "      <th>1</th>\n",
       "      <td>44698509</td>\n",
       "      <td>Groveland</td>\n",
       "      <td>FL</td>\n",
       "      <td>Duke is an almost 2 year old Potcake from Abac...</td>\n",
       "      <td>Abacos</td>\n",
       "      <td>Bahamas</td>\n",
       "      <td>NaN</td>\n",
       "      <td>NaN</td>\n",
       "    </tr>\n",
       "    <tr>\n",
       "      <th>2</th>\n",
       "      <td>45983838</td>\n",
       "      <td>Adamstown</td>\n",
       "      <td>MD</td>\n",
       "      <td>Zac Woof-ron is a heartthrob movie star lookin...</td>\n",
       "      <td>Adam</td>\n",
       "      <td>Maryland</td>\n",
       "      <td>NaN</td>\n",
       "      <td>NaN</td>\n",
       "    </tr>\n",
       "    <tr>\n",
       "      <th>3</th>\n",
       "      <td>44475904</td>\n",
       "      <td>Saint Cloud</td>\n",
       "      <td>MN</td>\n",
       "      <td>~~Came in to the shelter as a transfer from an...</td>\n",
       "      <td>Adaptil</td>\n",
       "      <td>NaN</td>\n",
       "      <td>True</td>\n",
       "      <td>NaN</td>\n",
       "    </tr>\n",
       "    <tr>\n",
       "      <th>4</th>\n",
       "      <td>43877389</td>\n",
       "      <td>Pueblo</td>\n",
       "      <td>CO</td>\n",
       "      <td>Palang is such a sweetheart. She loves her peo...</td>\n",
       "      <td>Afghanistan</td>\n",
       "      <td>NaN</td>\n",
       "      <td>NaN</td>\n",
       "      <td>NaN</td>\n",
       "    </tr>\n",
       "    <tr>\n",
       "      <th>...</th>\n",
       "      <td>...</td>\n",
       "      <td>...</td>\n",
       "      <td>...</td>\n",
       "      <td>...</td>\n",
       "      <td>...</td>\n",
       "      <td>...</td>\n",
       "      <td>...</td>\n",
       "      <td>...</td>\n",
       "    </tr>\n",
       "    <tr>\n",
       "      <th>6189</th>\n",
       "      <td>40492179</td>\n",
       "      <td>Fairmont</td>\n",
       "      <td>WV</td>\n",
       "      <td>Please contact Pet (information@pethelpersinc....</td>\n",
       "      <td>WV</td>\n",
       "      <td>NaN</td>\n",
       "      <td>True</td>\n",
       "      <td>NaN</td>\n",
       "    </tr>\n",
       "    <tr>\n",
       "      <th>6190</th>\n",
       "      <td>45799729</td>\n",
       "      <td>Eagle Mountain</td>\n",
       "      <td>UT</td>\n",
       "      <td>Shiny is an approximately 4-6-year-old spayed ...</td>\n",
       "      <td>Wyoming</td>\n",
       "      <td>NaN</td>\n",
       "      <td>NaN</td>\n",
       "      <td>NaN</td>\n",
       "    </tr>\n",
       "    <tr>\n",
       "      <th>6191</th>\n",
       "      <td>34276515</td>\n",
       "      <td>Newnan</td>\n",
       "      <td>GA</td>\n",
       "      <td>Yanni is a  Male Great Pyrenees that we rescue...</td>\n",
       "      <td>Yazmin</td>\n",
       "      <td>NaN</td>\n",
       "      <td>True</td>\n",
       "      <td>NaN</td>\n",
       "    </tr>\n",
       "    <tr>\n",
       "      <th>6192</th>\n",
       "      <td>44519341</td>\n",
       "      <td>Dayton</td>\n",
       "      <td>OH</td>\n",
       "      <td>Callie is a 14 year old Chihuahua whose owner ...</td>\n",
       "      <td>Young</td>\n",
       "      <td>Ohio</td>\n",
       "      <td>NaN</td>\n",
       "      <td>NaN</td>\n",
       "    </tr>\n",
       "    <tr>\n",
       "      <th>6193</th>\n",
       "      <td>36659999</td>\n",
       "      <td>New York</td>\n",
       "      <td>NY</td>\n",
       "      <td>This guy loves to be outside so a person w/ a ...</td>\n",
       "      <td>Zazu</td>\n",
       "      <td>NaN</td>\n",
       "      <td>True</td>\n",
       "      <td>NaN</td>\n",
       "    </tr>\n",
       "  </tbody>\n",
       "</table>\n",
       "<p>6194 rows × 8 columns</p>\n",
       "</div>"
      ],
      "text/plain": [
       "            id    contact_city contact_state  \\\n",
       "0     44520267           Anoka            MN   \n",
       "1     44698509       Groveland            FL   \n",
       "2     45983838       Adamstown            MD   \n",
       "3     44475904     Saint Cloud            MN   \n",
       "4     43877389          Pueblo            CO   \n",
       "...        ...             ...           ...   \n",
       "6189  40492179        Fairmont            WV   \n",
       "6190  45799729  Eagle Mountain            UT   \n",
       "6191  34276515          Newnan            GA   \n",
       "6192  44519341          Dayton            OH   \n",
       "6193  36659999        New York            NY   \n",
       "\n",
       "                                            description        found  \\\n",
       "0     Boris is a handsome mini schnauzer who made hi...     Arkansas   \n",
       "1     Duke is an almost 2 year old Potcake from Abac...       Abacos   \n",
       "2     Zac Woof-ron is a heartthrob movie star lookin...         Adam   \n",
       "3     ~~Came in to the shelter as a transfer from an...      Adaptil   \n",
       "4     Palang is such a sweetheart. She loves her peo...  Afghanistan   \n",
       "...                                                 ...          ...   \n",
       "6189  Please contact Pet (information@pethelpersinc....           WV   \n",
       "6190  Shiny is an approximately 4-6-year-old spayed ...      Wyoming   \n",
       "6191  Yanni is a  Male Great Pyrenees that we rescue...       Yazmin   \n",
       "6192  Callie is a 14 year old Chihuahua whose owner ...        Young   \n",
       "6193  This guy loves to be outside so a person w/ a ...         Zazu   \n",
       "\n",
       "        manual remove still_there  \n",
       "0          NaN    NaN         NaN  \n",
       "1      Bahamas    NaN         NaN  \n",
       "2     Maryland    NaN         NaN  \n",
       "3          NaN   True         NaN  \n",
       "4          NaN    NaN         NaN  \n",
       "...        ...    ...         ...  \n",
       "6189       NaN   True         NaN  \n",
       "6190       NaN    NaN         NaN  \n",
       "6191       NaN   True         NaN  \n",
       "6192      Ohio    NaN         NaN  \n",
       "6193       NaN   True         NaN  \n",
       "\n",
       "[6194 rows x 8 columns]"
      ]
     },
     "execution_count": 4,
     "metadata": {},
     "output_type": "execute_result"
    }
   ],
   "source": [
    "dog_travel"
   ]
  },
  {
   "cell_type": "markdown",
   "metadata": {},
   "source": [
    "### Finding Scout\n",
    "\n",
    "The article says there were 4,002 dogs available for adoption in New York. Let's see:"
   ]
  },
  {
   "cell_type": "code",
   "execution_count": 5,
   "metadata": {},
   "outputs": [
    {
     "data": {
      "text/plain": [
       "4002"
      ]
     },
     "execution_count": 5,
     "metadata": {},
     "output_type": "execute_result"
    }
   ],
   "source": [
    "dog_descriptions[dog_descriptions['contact_state'] == 'NY'].shape[0]"
   ]
  },
  {
   "cell_type": "markdown",
   "metadata": {},
   "source": [
    "Let's find Scout:"
   ]
  },
  {
   "cell_type": "code",
   "execution_count": 6,
   "metadata": {},
   "outputs": [
    {
     "data": {
      "text/html": [
       "<div>\n",
       "<style scoped>\n",
       "    .dataframe tbody tr th:only-of-type {\n",
       "        vertical-align: middle;\n",
       "    }\n",
       "\n",
       "    .dataframe tbody tr th {\n",
       "        vertical-align: top;\n",
       "    }\n",
       "\n",
       "    .dataframe thead th {\n",
       "        text-align: right;\n",
       "    }\n",
       "</style>\n",
       "<table border=\"1\" class=\"dataframe\">\n",
       "  <thead>\n",
       "    <tr style=\"text-align: right;\">\n",
       "      <th></th>\n",
       "      <th>id</th>\n",
       "      <th>name</th>\n",
       "      <th>contact_state</th>\n",
       "      <th>breed_primary</th>\n",
       "      <th>description</th>\n",
       "    </tr>\n",
       "  </thead>\n",
       "  <tbody>\n",
       "    <tr>\n",
       "      <th>10321</th>\n",
       "      <td>45905526</td>\n",
       "      <td>Scout</td>\n",
       "      <td>NY</td>\n",
       "      <td>Shepherd</td>\n",
       "      <td>Hi, Scout here to tell you a little about myse...</td>\n",
       "    </tr>\n",
       "    <tr>\n",
       "      <th>11065</th>\n",
       "      <td>45787945</td>\n",
       "      <td>Scout</td>\n",
       "      <td>NY</td>\n",
       "      <td>Labrador Retriever</td>\n",
       "      <td>You can fill out an adoption application onlin...</td>\n",
       "    </tr>\n",
       "    <tr>\n",
       "      <th>11318</th>\n",
       "      <td>45723371</td>\n",
       "      <td>Scout</td>\n",
       "      <td>NY</td>\n",
       "      <td>Bull Terrier</td>\n",
       "      <td>Big Life.. little girl.. big heart.. big energ...</td>\n",
       "    </tr>\n",
       "    <tr>\n",
       "      <th>13125</th>\n",
       "      <td>44869304</td>\n",
       "      <td>Scout</td>\n",
       "      <td>NY</td>\n",
       "      <td>Rottweiler</td>\n",
       "      <td>Scout is a female, 3 1/2 yo rottie mix who wei...</td>\n",
       "    </tr>\n",
       "    <tr>\n",
       "      <th>55615</th>\n",
       "      <td>43822962</td>\n",
       "      <td>Scout</td>\n",
       "      <td>NY</td>\n",
       "      <td>Labrador Retriever</td>\n",
       "      <td>Scout is a very handsome, very sweet 2-year-ol...</td>\n",
       "    </tr>\n",
       "  </tbody>\n",
       "</table>\n",
       "</div>"
      ],
      "text/plain": [
       "             id   name contact_state       breed_primary  \\\n",
       "10321  45905526  Scout            NY            Shepherd   \n",
       "11065  45787945  Scout            NY  Labrador Retriever   \n",
       "11318  45723371  Scout            NY        Bull Terrier   \n",
       "13125  44869304  Scout            NY          Rottweiler   \n",
       "55615  43822962  Scout            NY  Labrador Retriever   \n",
       "\n",
       "                                             description  \n",
       "10321  Hi, Scout here to tell you a little about myse...  \n",
       "11065  You can fill out an adoption application onlin...  \n",
       "11318  Big Life.. little girl.. big heart.. big energ...  \n",
       "13125  Scout is a female, 3 1/2 yo rottie mix who wei...  \n",
       "55615  Scout is a very handsome, very sweet 2-year-ol...  "
      ]
     },
     "execution_count": 6,
     "metadata": {},
     "output_type": "execute_result"
    }
   ],
   "source": [
    "cols = ['id', 'name', 'contact_state', 'breed_primary', 'description']\n",
    "dog_descriptions[(dog_descriptions['contact_state'] == 'NY') & (dog_descriptions['name'] == 'Scout')][cols]"
   ]
  },
  {
   "cell_type": "markdown",
   "metadata": {},
   "source": [
    "There are a few New York dogs named Scout. The one we're looking for should also be in the `dog_travel` dataset, and it originated in Alabama:"
   ]
  },
  {
   "cell_type": "code",
   "execution_count": 7,
   "metadata": {},
   "outputs": [
    {
     "data": {
      "text/html": [
       "<div>\n",
       "<style scoped>\n",
       "    .dataframe tbody tr th:only-of-type {\n",
       "        vertical-align: middle;\n",
       "    }\n",
       "\n",
       "    .dataframe tbody tr th {\n",
       "        vertical-align: top;\n",
       "    }\n",
       "\n",
       "    .dataframe thead th {\n",
       "        text-align: right;\n",
       "    }\n",
       "</style>\n",
       "<table border=\"1\" class=\"dataframe\">\n",
       "  <thead>\n",
       "    <tr style=\"text-align: right;\">\n",
       "      <th></th>\n",
       "      <th>id</th>\n",
       "      <th>name</th>\n",
       "      <th>contact_state</th>\n",
       "      <th>breed_primary</th>\n",
       "      <th>description</th>\n",
       "    </tr>\n",
       "  </thead>\n",
       "  <tbody>\n",
       "    <tr>\n",
       "      <th>69</th>\n",
       "      <td>45787945</td>\n",
       "      <td>Scout</td>\n",
       "      <td>NY</td>\n",
       "      <td>Labrador Retriever</td>\n",
       "      <td>You can fill out an adoption application onlin...</td>\n",
       "    </tr>\n",
       "  </tbody>\n",
       "</table>\n",
       "</div>"
      ],
      "text/plain": [
       "          id   name contact_state       breed_primary  \\\n",
       "69  45787945  Scout            NY  Labrador Retriever   \n",
       "\n",
       "                                          description  \n",
       "69  You can fill out an adoption application onlin...  "
      ]
     },
     "execution_count": 7,
     "metadata": {},
     "output_type": "execute_result"
    }
   ],
   "source": [
    "dog_joined = dog_travel.join(dog_descriptions.set_index('id'), on='id', rsuffix=2, how='inner')\n",
    "\n",
    "dog_joined[(dog_joined['contact_state'] == 'NY') & (dog_joined['name'] == 'Scout') & (dog_joined['found'] == 'Alabama')][cols]"
   ]
  },
  {
   "cell_type": "markdown",
   "metadata": {},
   "source": [
    "### Imported and Exported Dogs\n",
    "\n",
    "Let's see if we can recreate the imported and exported section. We won't try to mimic that nice infographic, but let's at least aim for a function which tells us for each state which dogs were imported from/exported to."
   ]
  },
  {
   "cell_type": "code",
   "execution_count": 8,
   "metadata": {},
   "outputs": [
    {
     "data": {
      "text/html": [
       "<div>\n",
       "<style scoped>\n",
       "    .dataframe tbody tr th:only-of-type {\n",
       "        vertical-align: middle;\n",
       "    }\n",
       "\n",
       "    .dataframe tbody tr th {\n",
       "        vertical-align: top;\n",
       "    }\n",
       "\n",
       "    .dataframe thead th {\n",
       "        text-align: right;\n",
       "    }\n",
       "</style>\n",
       "<table border=\"1\" class=\"dataframe\">\n",
       "  <thead>\n",
       "    <tr style=\"text-align: right;\">\n",
       "      <th></th>\n",
       "      <th>n</th>\n",
       "    </tr>\n",
       "    <tr>\n",
       "      <th>found</th>\n",
       "      <th></th>\n",
       "    </tr>\n",
       "  </thead>\n",
       "  <tbody>\n",
       "    <tr>\n",
       "      <th>Texas</th>\n",
       "      <td>116</td>\n",
       "    </tr>\n",
       "    <tr>\n",
       "      <th>South Carolina</th>\n",
       "      <td>48</td>\n",
       "    </tr>\n",
       "    <tr>\n",
       "      <th>Puerto Rico</th>\n",
       "      <td>28</td>\n",
       "    </tr>\n",
       "    <tr>\n",
       "      <th>Georgia</th>\n",
       "      <td>27</td>\n",
       "    </tr>\n",
       "    <tr>\n",
       "      <th>Tennessee</th>\n",
       "      <td>21</td>\n",
       "    </tr>\n",
       "    <tr>\n",
       "      <th>Alabama</th>\n",
       "      <td>19</td>\n",
       "    </tr>\n",
       "    <tr>\n",
       "      <th>Thailand</th>\n",
       "      <td>13</td>\n",
       "    </tr>\n",
       "    <tr>\n",
       "      <th>Bahamas</th>\n",
       "      <td>11</td>\n",
       "    </tr>\n",
       "    <tr>\n",
       "      <th>Far Rockaway</th>\n",
       "      <td>9</td>\n",
       "    </tr>\n",
       "    <tr>\n",
       "      <th>FL</th>\n",
       "      <td>9</td>\n",
       "    </tr>\n",
       "  </tbody>\n",
       "</table>\n",
       "</div>"
      ],
      "text/plain": [
       "                  n\n",
       "found              \n",
       "Texas           116\n",
       "South Carolina   48\n",
       "Puerto Rico      28\n",
       "Georgia          27\n",
       "Tennessee        21\n",
       "Alabama          19\n",
       "Thailand         13\n",
       "Bahamas          11\n",
       "Far Rockaway      9\n",
       "FL                9"
      ]
     },
     "execution_count": 8,
     "metadata": {},
     "output_type": "execute_result"
    }
   ],
   "source": [
    "def get_imported_to_exported_from_state(state, data_type):\n",
    "    if data_type == 'imported':\n",
    "        filter_var = 'contact_state'\n",
    "        grouping_var = 'found'\n",
    "    elif data_type == 'exported':\n",
    "        filter_var = 'found'\n",
    "        grouping_var = 'contact_state'\n",
    "    else:\n",
    "        raise ValueError('data_type %s not supported' % data_type)\n",
    "    return dog_joined[(dog_joined[filter_var] == state) & (dog_joined[grouping_var] != state)]\\\n",
    "            .groupby(grouping_var)['id']\\\n",
    "            .count().sort_values(ascending=False).rename('n').to_frame()\n",
    "\n",
    "ny_imported = get_imported_to_exported_from_state('NY', 'imported')\n",
    "ny_imported.head(10)"
   ]
  },
  {
   "cell_type": "markdown",
   "metadata": {},
   "source": [
    "The data for New York does not exactly match what we're seeing in the Pudding piece and I'm not quite sure why.\n",
    "\n",
    "It doesn't seem like a problem in our `join`, but a problem in the raw data. For example, according to the Pudding, there are 4 dogs imported to New York from Egypt, but we only find 2. And this does not stem from a bad `join`, as we can see in the raw data there are only 2 dogs `found` in Egypt with `contact_state` New York:"
   ]
  },
  {
   "cell_type": "code",
   "execution_count": 9,
   "metadata": {},
   "outputs": [
    {
     "data": {
      "text/html": [
       "<div>\n",
       "<style scoped>\n",
       "    .dataframe tbody tr th:only-of-type {\n",
       "        vertical-align: middle;\n",
       "    }\n",
       "\n",
       "    .dataframe tbody tr th {\n",
       "        vertical-align: top;\n",
       "    }\n",
       "\n",
       "    .dataframe thead th {\n",
       "        text-align: right;\n",
       "    }\n",
       "</style>\n",
       "<table border=\"1\" class=\"dataframe\">\n",
       "  <thead>\n",
       "    <tr style=\"text-align: right;\">\n",
       "      <th></th>\n",
       "      <th>id</th>\n",
       "      <th>contact_city</th>\n",
       "      <th>contact_state</th>\n",
       "      <th>found</th>\n",
       "    </tr>\n",
       "  </thead>\n",
       "  <tbody>\n",
       "    <tr>\n",
       "      <th>1068</th>\n",
       "      <td>38705887</td>\n",
       "      <td>Phoenix</td>\n",
       "      <td>AZ</td>\n",
       "      <td>Egypt</td>\n",
       "    </tr>\n",
       "    <tr>\n",
       "      <th>1069</th>\n",
       "      <td>44148363</td>\n",
       "      <td>Cliffside Park</td>\n",
       "      <td>NJ</td>\n",
       "      <td>Egypt</td>\n",
       "    </tr>\n",
       "    <tr>\n",
       "      <th>1070</th>\n",
       "      <td>43624867</td>\n",
       "      <td>North Haledon</td>\n",
       "      <td>NJ</td>\n",
       "      <td>Egypt</td>\n",
       "    </tr>\n",
       "    <tr>\n",
       "      <th>1071</th>\n",
       "      <td>43529318</td>\n",
       "      <td>Cliffside Park</td>\n",
       "      <td>NJ</td>\n",
       "      <td>Egypt</td>\n",
       "    </tr>\n",
       "    <tr>\n",
       "      <th>1072</th>\n",
       "      <td>42308856</td>\n",
       "      <td>South Ozone Park</td>\n",
       "      <td>NY</td>\n",
       "      <td>Egypt</td>\n",
       "    </tr>\n",
       "    <tr>\n",
       "      <th>1073</th>\n",
       "      <td>41357644</td>\n",
       "      <td>Flushing</td>\n",
       "      <td>NY</td>\n",
       "      <td>Egypt</td>\n",
       "    </tr>\n",
       "    <tr>\n",
       "      <th>1074</th>\n",
       "      <td>36887156</td>\n",
       "      <td>Cliffside Park</td>\n",
       "      <td>NJ</td>\n",
       "      <td>Egypt</td>\n",
       "    </tr>\n",
       "    <tr>\n",
       "      <th>1075</th>\n",
       "      <td>36310469</td>\n",
       "      <td>Cliffside Park</td>\n",
       "      <td>NJ</td>\n",
       "      <td>Egypt</td>\n",
       "    </tr>\n",
       "    <tr>\n",
       "      <th>1076</th>\n",
       "      <td>35011554</td>\n",
       "      <td>Cliffside Park</td>\n",
       "      <td>NJ</td>\n",
       "      <td>Egypt</td>\n",
       "    </tr>\n",
       "    <tr>\n",
       "      <th>1077</th>\n",
       "      <td>43084058</td>\n",
       "      <td>Lawrenceville</td>\n",
       "      <td>GA</td>\n",
       "      <td>Egypt</td>\n",
       "    </tr>\n",
       "    <tr>\n",
       "      <th>1078</th>\n",
       "      <td>40869165</td>\n",
       "      <td>Lawrenceville</td>\n",
       "      <td>GA</td>\n",
       "      <td>Egypt</td>\n",
       "    </tr>\n",
       "    <tr>\n",
       "      <th>1079</th>\n",
       "      <td>32130377</td>\n",
       "      <td>Lawrenceville</td>\n",
       "      <td>GA</td>\n",
       "      <td>Egypt</td>\n",
       "    </tr>\n",
       "    <tr>\n",
       "      <th>1080</th>\n",
       "      <td>39823687</td>\n",
       "      <td>Cedar Rapids</td>\n",
       "      <td>IA</td>\n",
       "      <td>Egypt</td>\n",
       "    </tr>\n",
       "  </tbody>\n",
       "</table>\n",
       "</div>"
      ],
      "text/plain": [
       "            id      contact_city contact_state  found\n",
       "1068  38705887           Phoenix            AZ  Egypt\n",
       "1069  44148363    Cliffside Park            NJ  Egypt\n",
       "1070  43624867     North Haledon            NJ  Egypt\n",
       "1071  43529318    Cliffside Park            NJ  Egypt\n",
       "1072  42308856  South Ozone Park            NY  Egypt\n",
       "1073  41357644          Flushing            NY  Egypt\n",
       "1074  36887156    Cliffside Park            NJ  Egypt\n",
       "1075  36310469    Cliffside Park            NJ  Egypt\n",
       "1076  35011554    Cliffside Park            NJ  Egypt\n",
       "1077  43084058     Lawrenceville            GA  Egypt\n",
       "1078  40869165     Lawrenceville            GA  Egypt\n",
       "1079  32130377     Lawrenceville            GA  Egypt\n",
       "1080  39823687      Cedar Rapids            IA  Egypt"
      ]
     },
     "execution_count": 9,
     "metadata": {},
     "output_type": "execute_result"
    }
   ],
   "source": [
    "dog_travel[dog_travel['found'] == 'Egypt'][['id', 'contact_city', 'contact_state', 'found']]"
   ]
  },
  {
   "cell_type": "markdown",
   "metadata": {},
   "source": [
    "Following on \"Yasmina\", one of the two Egypt-to-NY missing dogs, we do see it in the entire snapshot:"
   ]
  },
  {
   "cell_type": "code",
   "execution_count": 10,
   "metadata": {},
   "outputs": [
    {
     "data": {
      "text/html": [
       "<div>\n",
       "<style scoped>\n",
       "    .dataframe tbody tr th:only-of-type {\n",
       "        vertical-align: middle;\n",
       "    }\n",
       "\n",
       "    .dataframe tbody tr th {\n",
       "        vertical-align: top;\n",
       "    }\n",
       "\n",
       "    .dataframe thead th {\n",
       "        text-align: right;\n",
       "    }\n",
       "</style>\n",
       "<table border=\"1\" class=\"dataframe\">\n",
       "  <thead>\n",
       "    <tr style=\"text-align: right;\">\n",
       "      <th></th>\n",
       "      <th>id</th>\n",
       "      <th>name</th>\n",
       "      <th>contact_state</th>\n",
       "      <th>breed_primary</th>\n",
       "      <th>description</th>\n",
       "    </tr>\n",
       "  </thead>\n",
       "  <tbody>\n",
       "    <tr>\n",
       "      <th>15049</th>\n",
       "      <td>36508955</td>\n",
       "      <td>Yasmina</td>\n",
       "      <td>NY</td>\n",
       "      <td>Shepherd</td>\n",
       "      <td>Name: Yasmina\\n\\nApproximate Age: 4yrs\\n\\nBree...</td>\n",
       "    </tr>\n",
       "  </tbody>\n",
       "</table>\n",
       "</div>"
      ],
      "text/plain": [
       "             id     name contact_state breed_primary  \\\n",
       "15049  36508955  Yasmina            NY      Shepherd   \n",
       "\n",
       "                                             description  \n",
       "15049  Name: Yasmina\\n\\nApproximate Age: 4yrs\\n\\nBree...  "
      ]
     },
     "execution_count": 10,
     "metadata": {},
     "output_type": "execute_result"
    }
   ],
   "source": [
    "dog_descriptions[dog_descriptions['name'] == 'Yasmina'][cols]"
   ]
  },
  {
   "cell_type": "markdown",
   "metadata": {},
   "source": [
    "And indeed if you read carefully its description, you see it was indeed born in Egypt:"
   ]
  },
  {
   "cell_type": "code",
   "execution_count": 11,
   "metadata": {},
   "outputs": [
    {
     "name": "stdout",
     "output_type": "stream",
     "text": [
      "Name: Yasmina\n",
      "\n",
      "Approximate Age: 4yrs\n",
      "\n",
      "Breed: Baladi\n",
      "\n",
      "Sex: Female\n",
      "\n",
      "Special Needs: Requires frequent trips outside due to effects of previous injury\n",
      "\n",
      "Adoption fee: $325\n",
      "\n",
      "Up to date on vaccinations/preventatives. Spayed. Microchipped.\n",
      "\n",
      "No one knows much of my past but I was born in Egypt and became a US citizen in 2014. When I first came to the states, we were all under the impression I was paralyzed- not knowing why or how, but I couldnt use my back end. Either way I was a happy girl, just thankful to be loved and cared for. My foster mom got me a wheelchair but she was convinced I could someday walk. With her dedication and both of our hard work guess who doesnt need a set of wheels anymore? Me! Yeah, I may have a few scars, walk with a wobble (which I may add everyone finds adorable) and have to go outside more than most but all in all, Im a walking machine! The only thing that I havent been able to master yet is a full set of stairs- I can handle up to 5 but I get nervous about doing more- Ill get there though! Because of my past, being able to hold needing to use the bathroom can be a bit of a struggle and Ill need to go out quite often- nothing crazy but more than your average dog. Right now my foster mom keeps me in a pen at night just in case an accident happens. \n",
      "Did I mention that I literally adore any living thing put in front of me? Dogs, Cats, People...I would be a great addition to any family!\n",
      "\n",
      "Transport to any approved home within the US can be provided at no additional fee. \n",
      "Currently Yasmini is located in Michigan. \n",
      "\n",
      "Please visit SNARRANIMALRESCUE.org to fill out an application! Our adoption requirements/process can also be found there.\n"
     ]
    }
   ],
   "source": [
    "print(dog_descriptions[dog_descriptions['name'] == 'Yasmina']['description'].values[0])"
   ]
  },
  {
   "cell_type": "markdown",
   "metadata": {},
   "source": [
    "However Yasmina does not appear in the raw subset of dogs which moved from one state to another:"
   ]
  },
  {
   "cell_type": "code",
   "execution_count": 12,
   "metadata": {},
   "outputs": [
    {
     "data": {
      "text/html": [
       "<div>\n",
       "<style scoped>\n",
       "    .dataframe tbody tr th:only-of-type {\n",
       "        vertical-align: middle;\n",
       "    }\n",
       "\n",
       "    .dataframe tbody tr th {\n",
       "        vertical-align: top;\n",
       "    }\n",
       "\n",
       "    .dataframe thead th {\n",
       "        text-align: right;\n",
       "    }\n",
       "</style>\n",
       "<table border=\"1\" class=\"dataframe\">\n",
       "  <thead>\n",
       "    <tr style=\"text-align: right;\">\n",
       "      <th></th>\n",
       "      <th>id</th>\n",
       "      <th>contact_city</th>\n",
       "      <th>contact_state</th>\n",
       "      <th>description</th>\n",
       "      <th>found</th>\n",
       "      <th>manual</th>\n",
       "      <th>remove</th>\n",
       "      <th>still_there</th>\n",
       "    </tr>\n",
       "  </thead>\n",
       "  <tbody>\n",
       "  </tbody>\n",
       "</table>\n",
       "</div>"
      ],
      "text/plain": [
       "Empty DataFrame\n",
       "Columns: [id, contact_city, contact_state, description, found, manual, remove, still_there]\n",
       "Index: []"
      ]
     },
     "execution_count": 12,
     "metadata": {},
     "output_type": "execute_result"
    }
   ],
   "source": [
    "dog_travel[dog_travel['id'] == 3650895]"
   ]
  },
  {
   "cell_type": "markdown",
   "metadata": {},
   "source": [
    "### Import to Export by State\n",
    "\n",
    "I'm not sure there is library in Python which would help us reproduce that nice US map showing for each state how many dogs were imported and how many exported (there are a few `ggplot2` extensions which come close in R). So let's do a dumbbell plot with [Seaborn](https://seaborn.pydata.org/).\n",
    "\n",
    "The following is heavily based on this [Python Gallery](https://python-graph-gallery.com/184-lollipop-plot-with-2-groups/) example. There's a similar gallery for R and they're life savers."
   ]
  },
  {
   "cell_type": "code",
   "execution_count": 13,
   "metadata": {},
   "outputs": [
    {
     "data": {
      "image/png": "[encoded data removed]",
      "text/plain": [
       "<Figure size 1152x1152 with 1 Axes>"
      ]
     },
     "metadata": {},
     "output_type": "display_data"
    }
   ],
   "source": [
    "dog_moves_in_us = dog_moves[dog_moves['inUS']].sort_values(by='exported', ascending=False).fillna(0)\n",
    "dog_moves_in_us.index = range(len(dog_moves_in_us))\n",
    "my_range=range(1, len(dog_moves_in_us.index) + 1)\n",
    " \n",
    "# The vertical plot is made using the hline function\n",
    "# Load the seaborn library only to benefit the nice looking feature\n",
    "sns.set()\n",
    "plt.figure(figsize=(16, 16))\n",
    "plt.hlines(y=my_range, xmin=dog_moves_in_us['exported'], xmax=dog_moves_in_us['imported'], color='grey', alpha=0.4)\n",
    "plt.scatter(dog_moves_in_us['exported'], my_range, color='skyblue', alpha=1, label='Exported')\n",
    "plt.scatter(dog_moves_in_us['imported'], my_range, color='green', alpha=0.4 , label='Imported')\n",
    "plt.legend()\n",
    " \n",
    "plt.yticks(my_range, dog_moves_in_us['location'])\n",
    "plt.title('Imported vs. Exported Dogs by US state', loc='left')\n",
    "plt.show()"
   ]
  },
  {
   "cell_type": "markdown",
   "metadata": {},
   "source": [
    "This is an alternative way to show the difference between southern and northern states, though not a very good one.\n",
    "\n",
    "According to the Pudding:\n",
    "> In many northern states, rescue dogs are in demand, but sometimes in short supply. Families in these areas have reported wanting to adopt a dog, but the ones that were local and met their needs in both size or temperament were unavailable too quickly. People in southern states, often have the opposite problem. Due in part to less rigorous spay and neuter programs, poverty, a warmer climate, and in some cases, a different perspective on the role pets play in their families, stray dogs are very common in some areas of the south.\n"
   ]
  },
  {
   "cell_type": "markdown",
   "metadata": {},
   "source": [
    "This left me convinced I *should* try to at least color the US map by Export to Import ratio but I leave it to the reader...\n",
    "\n",
    "We *could*, however, make the above plot a little nicer by simply plotting the Export to Import ratio in a simple bar plot or lollipop plot, but this would create problems e.g. for Texas where the Import value is 0, and the ratio is infinity..."
   ]
  },
  {
   "cell_type": "markdown",
   "metadata": {},
   "source": [
    "### Wrap up\n",
    "\n",
    "And that's it, you have shown you can run a Python Jupyter notebook, seen some Pandasverse magic and hopefully learned something about the adoptable dogs mobility in the US. Good luck with the rest of the course!"
   ]
  }
 ],
 "metadata": {
  "kernelspec": {
   "display_name": "Python 3",
   "language": "python",
   "name": "python3"
  },
  "language_info": {
   "codemirror_mode": {
    "name": "ipython",
    "version": 3
   },
   "file_extension": ".py",
   "mimetype": "text/x-python",
   "name": "python",
   "nbconvert_exporter": "python",
   "pygments_lexer": "ipython3",
   "version": "3.8.8"
  }
 },
 "nbformat": 4,
 "nbformat_minor": 4
}
